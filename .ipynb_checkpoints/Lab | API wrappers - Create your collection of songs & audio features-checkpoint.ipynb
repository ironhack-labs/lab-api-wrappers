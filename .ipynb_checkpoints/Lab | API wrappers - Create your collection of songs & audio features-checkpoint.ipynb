{
 "cells": [
  {
   "cell_type": "markdown",
   "id": "73bc1a85",
   "metadata": {},
   "source": [
    "![logo_ironhack_blue 7](https://user-images.githubusercontent.com/23629340/40541063-a07a0a8a-601a-11e8-91b5-2f13e4e6b441.png)\n",
    "\n",
    "# Lab | API wrappers - Create your collection of songs & audio features\n",
    "\n",
    "\n",
    "#### Instructions \n",
    "\n",
    "\n",
    "To move forward with the project, you need to create a collection of songs with their audio features - as large as possible! \n",
    "\n",
    "These are the songs that we will cluster. And, later, when the user inputs a song, we will find the cluster to which the song belongs and recommend a song from the same cluster.\n",
    "The more songs you have, the more accurate and diverse recommendations you'll be able to give. Although... you might want to make sure the collected songs are \"curated\" in a certain way. Try to find playlists of songs that are diverse, but also that meet certain standards.\n",
    "\n",
    "The process of sending hundreds or thousands of requests can take some time - it's normal if you have to wait a few minutes (or, if you're ambitious, even hours) to get all the data you need.\n",
    "\n",
    "An idea for collecting as many songs as possible is to start with all the songs of a big, diverse playlist and then go to every artist present in the playlist and grab every song of every album of that artist. The amount of songs you'll be collecting per playlist will grow exponentially!"
   ]
  },
  {
   "cell_type": "code",
   "execution_count": null,
   "id": "011d0970",
   "metadata": {},
   "outputs": [],
   "source": [
    "import spotipy\n",
    "from spotipy.oauth2 import SpotifyClientCredentials\n",
    "import pandas as pd\n",
    "import numpy as np\n",
    "\n",
    "sp = spotipy.Spotify(auth_manager=SpotifyClientCredentials(\n",
    "    client_id=\"c34a366b525d4ab59a6017a882071628\",\n",
    "    client_secret=\"cac3606c2df8478d8cd3c61a3e1698b6\"))"
   ]
  },
  {
   "cell_type": "code",
   "execution_count": null,
   "id": "80268bc5",
   "metadata": {},
   "outputs": [],
   "source": [
    "def get_songs_from_playlists(playlist_ids, num_songs):\n",
    "    tracks = []\n",
    "    for playlist_id in playlist_ids:\n",
    "        playlist = sp.user_playlist_tracks(\"spotify\", playlist_id)\n",
    "        tracks.extend(playlist['items'])\n",
    "        while sp.next(playlist):\n",
    "            playlist = sp.next(playlist)\n",
    "            tracks.extend(playlist['items'])\n",
    "    \n",
    "    songs = []\n",
    "    for track in tracks:\n",
    "        artist_id = track['track']['artists'][0]['id']\n",
    "        artist_name = track['track']['artists'][0]['name']\n",
    "        results = sp.artist_top_tracks(artist_id)\n",
    "        for track in results['tracks'][:num_songs]:\n",
    "            song_id = track['id']\n",
    "            song_name = track['name']\n",
    "            songs.append((song_id, song_name, artist_name))\n",
    "    \n",
    "    playlist_df = pd.DataFrame(songs, columns=['Song ID', 'Song Name', 'Artist Name'])\n",
    "    return playlist_df\n",
    "\n",
    "playlist_ids = [\"4R8MaXWFRHH6bREubcphRg\", \"37i9dQZF1DX4WYpdgoIcn6\", \"7H3jsjFAOc1h4Ivs4PvfOH\"]\n",
    "num_songs = 30\n",
    "playlist = get_songs_from_playlists(playlist_ids, num_songs)\n",
    "playlist.to_csv('playlist_2.csv', index=False)"
   ]
  },
  {
   "cell_type": "code",
   "execution_count": null,
   "id": "7c055516",
   "metadata": {},
   "outputs": [],
   "source": [
    "playlist = pd.read_csv('playlist_2.csv')\n",
    "playlist"
   ]
  },
  {
   "cell_type": "code",
   "execution_count": null,
   "id": "c5acb026",
   "metadata": {},
   "outputs": [],
   "source": [
    "for index, row in playlist.iterrows():\n",
    "    song_id = row['Song ID']\n",
    "    audio_features = sp.audio_features(tracks=[song_id])\n",
    "    \n",
    "    if audio_features:\n",
    "        audio_features = audio_features[0]\n",
    "        for feature_name, feature_value in audio_features.items():\n",
    "            row[feature_name] = feature_value"
   ]
  }
 ],
 "metadata": {
  "kernelspec": {
   "display_name": "Python 3 (ipykernel)",
   "language": "python",
   "name": "python3"
  },
  "language_info": {
   "codemirror_mode": {
    "name": "ipython",
    "version": 3
   },
   "file_extension": ".py",
   "mimetype": "text/x-python",
   "name": "python",
   "nbconvert_exporter": "python",
   "pygments_lexer": "ipython3",
   "version": "3.9.13"
  }
 },
 "nbformat": 4,
 "nbformat_minor": 5
}
