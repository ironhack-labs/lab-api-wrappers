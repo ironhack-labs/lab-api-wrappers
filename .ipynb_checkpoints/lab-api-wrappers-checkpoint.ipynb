{
 "cells": [
  {
   "cell_type": "markdown",
   "id": "d2267652",
   "metadata": {},
   "source": [
    "# Lab | API wrappers"
   ]
  },
  {
   "cell_type": "code",
   "execution_count": 115,
   "id": "8fe7b76c",
   "metadata": {},
   "outputs": [],
   "source": [
    "import spotipy\n",
    "from spotipy.oauth2 import SpotifyClientCredentials\n",
    "import pandas as pd"
   ]
  },
  {
   "cell_type": "code",
   "execution_count": 14,
   "id": "f3546c8f",
   "metadata": {},
   "outputs": [],
   "source": [
    "# Create collection of song IDs\n",
    "    # 1. Get all the song IDs from several playlists.\n",
    "    # 2. Get all the artist IDs from the song IDs.\n",
    "    # 3. Get all the album IDs from the artist IDs.\n",
    "    # 4. Get the song IDS from all the album IDs."
   ]
  },
  {
   "cell_type": "code",
   "execution_count": 158,
   "id": "6c3fdfab",
   "metadata": {},
   "outputs": [],
   "source": [
    "sp = spotipy.Spotify(auth_manager=SpotifyClientCredentials(\n",
    "    client_id='5d354016859446528d77a7c7dae4edd8',\n",
    "    client_secret='e1a53b5ee6dc412c8e181a2369350f0e'))\n",
    "\n",
    "playlist_pop = sp.user_playlist_tracks(\"spotify\", \"64QxysD2w5x5EMLgcoT7fa\")\n",
    "playlist_indie = sp.user_playlist_tracks(\"spotify\", \"37i9dQZF1DX0lyZ45Ayi9S\")\n",
    "playlist_dance = sp.user_playlist_tracks(\"spotify\", \"33PyRULhtc4SRrUE1wbbmp\")\n",
    "playlist_rock = sp.user_playlist_tracks(\"spotify\", \"73wCNB78g3O2nIDLYJA35G\")\n",
    "\n",
    "# extra playlists:\n",
    "# playlist_electronic = sp.user_playlist_tracks(\"spotify\", \"0oXD7v9HUf2jFZXQfY2o4U\")\n",
    "# playlist_chill = sp.user_playlist_tracks(\"spotify\", \"16gXsmg48MdRTqCLNnx9Cu\")\n",
    "# playlist_metal = sp.user_playlist_tracks(\"spotify\", \"1yMlpNGEpIVUIilZlrbdS0\")"
   ]
  },
  {
   "cell_type": "code",
   "execution_count": 135,
   "id": "022b0b9a",
   "metadata": {},
   "outputs": [],
   "source": [
    "# 1. Get all the song IDs from a playlist\n",
    "\n",
    "def get_song_ids(playlist):\n",
    "    song_ids = []\n",
    "    for track in playlist[\"items\"]:\n",
    "        song_ids.append(track[\"track\"][\"id\"])\n",
    "    return playlist_songs\n"
   ]
  },
  {
   "cell_type": "code",
   "execution_count": 140,
   "id": "b899c717",
   "metadata": {},
   "outputs": [
    {
     "data": {
      "text/plain": [
       "400"
      ]
     },
     "execution_count": 140,
     "metadata": {},
     "output_type": "execute_result"
    }
   ],
   "source": [
    "pop_song_ids = get_song_ids(playlist_pop)\n",
    "indie_song_ids = get_song_ids(playlist_indie)\n",
    "dance_song_ids = get_song_ids(playlist_dance)\n",
    "rock_song_ids = get_song_ids(playlist_rock)\n",
    "\n",
    "# Merge all the song IDs into a single list\n",
    "all_song_ids = []\n",
    "all_song_ids.extend(pop_song_ids)\n",
    "all_song_ids.extend(indie_song_ids)\n",
    "all_song_ids.extend(dance_song_ids)\n",
    "all_song_ids.extend(rock_song_ids)\n",
    "len(all_song_ids)"
   ]
  },
  {
   "cell_type": "code",
   "execution_count": 141,
   "id": "15a12ed7",
   "metadata": {},
   "outputs": [],
   "source": [
    "# 2. Get all the artist IDs from the playlist:\n",
    "\n",
    "def get_artist_ids(playlist):\n",
    "    artist_ids = set()\n",
    "    for track in playlist[\"items\"]:\n",
    "        artist_id = track[\"track\"][\"artists\"][0]['id']\n",
    "        artist_ids.add(artist_id)\n",
    "    return list(artist_ids)"
   ]
  },
  {
   "cell_type": "code",
   "execution_count": 144,
   "id": "8e5be16c",
   "metadata": {},
   "outputs": [
    {
     "data": {
      "text/plain": [
       "291"
      ]
     },
     "execution_count": 144,
     "metadata": {},
     "output_type": "execute_result"
    }
   ],
   "source": [
    "pop_artist_ids = get_artist_ids(playlist_pop)\n",
    "indie_artist_ids = get_artist_ids(playlist_indie)\n",
    "dance_artist_ids = get_artist_ids(playlist_dance)\n",
    "rock_artist_ids = get_artist_ids(playlist_rock)\n",
    "\n",
    "# Merge all the song IDs into a single list\n",
    "all_artist_ids = []\n",
    "all_artist_ids.extend(pop_artist_ids)\n",
    "all_artist_ids.extend(indie_artist_ids)\n",
    "all_artist_ids.extend(dance_artist_ids)\n",
    "all_artist_ids.extend(rock_artist_ids)\n",
    "len(all_artist_ids)"
   ]
  },
  {
   "cell_type": "code",
   "execution_count": 98,
   "id": "79cfb256",
   "metadata": {},
   "outputs": [],
   "source": [
    "# 3. Get all the albums from the artist ids. \n",
    "\n",
    "def get_album_ids(artist_ids):\n",
    "    album_ids = set()\n",
    "    for artist_id in artist_ids:\n",
    "        results = sp.artist_albums(artist_id, album_type='album')\n",
    "        albums = results['items']\n",
    "        for album in albums:\n",
    "            album_ids.add(album['id'])\n",
    "    return list(album_ids)\n"
   ]
  },
  {
   "cell_type": "code",
   "execution_count": 145,
   "id": "5d02aad7",
   "metadata": {},
   "outputs": [],
   "source": [
    "album_ids = get_album_ids(all_artist_ids)"
   ]
  },
  {
   "cell_type": "code",
   "execution_count": 146,
   "id": "5735cadf",
   "metadata": {},
   "outputs": [
    {
     "data": {
      "text/plain": [
       "2486"
      ]
     },
     "execution_count": 146,
     "metadata": {},
     "output_type": "execute_result"
    }
   ],
   "source": [
    "len(album_ids)\n"
   ]
  },
  {
   "cell_type": "code",
   "execution_count": 147,
   "id": "62f582a6",
   "metadata": {},
   "outputs": [],
   "source": [
    "# 4. Get all the songs from the album ids\n",
    "def all_songs(album_ids):\n",
    "    all_songs = set()\n",
    "    for album_id in album_ids:\n",
    "        album_tracks = sp.album_tracks(album_id)\n",
    "        tracks = album_tracks['items']\n",
    "        for track in tracks:\n",
    "            all_songs.add(track['id'])\n",
    "            \n",
    "    df = pd.DataFrame(all_songs, columns = {'song_ids'})\n",
    "    df.to_csv('song_ids.csv', index='False')    \n",
    "    return df       "
   ]
  },
  {
   "cell_type": "code",
   "execution_count": 148,
   "id": "89a6d3d5",
   "metadata": {},
   "outputs": [],
   "source": [
    "df = all_songs(album_ids)"
   ]
  },
  {
   "cell_type": "code",
   "execution_count": 157,
   "id": "cc29bf1d",
   "metadata": {},
   "outputs": [
    {
     "name": "stdout",
     "output_type": "stream",
     "text": [
      "(39494, 1)\n"
     ]
    },
    {
     "data": {
      "text/html": [
       "<div>\n",
       "<style scoped>\n",
       "    .dataframe tbody tr th:only-of-type {\n",
       "        vertical-align: middle;\n",
       "    }\n",
       "\n",
       "    .dataframe tbody tr th {\n",
       "        vertical-align: top;\n",
       "    }\n",
       "\n",
       "    .dataframe thead th {\n",
       "        text-align: right;\n",
       "    }\n",
       "</style>\n",
       "<table border=\"1\" class=\"dataframe\">\n",
       "  <thead>\n",
       "    <tr style=\"text-align: right;\">\n",
       "      <th></th>\n",
       "      <th>song_ids</th>\n",
       "    </tr>\n",
       "  </thead>\n",
       "  <tbody>\n",
       "    <tr>\n",
       "      <th>0</th>\n",
       "      <td>6swfhh3Er1ldJbqNz3CIqW</td>\n",
       "    </tr>\n",
       "    <tr>\n",
       "      <th>1</th>\n",
       "      <td>6rZwjouc6esJsvDulBNfSH</td>\n",
       "    </tr>\n",
       "    <tr>\n",
       "      <th>2</th>\n",
       "      <td>5GazolrdPbxcRwwC3Wtl9U</td>\n",
       "    </tr>\n",
       "    <tr>\n",
       "      <th>3</th>\n",
       "      <td>4SNumCzCRJsATXb2fq7kBl</td>\n",
       "    </tr>\n",
       "    <tr>\n",
       "      <th>4</th>\n",
       "      <td>4F0FjRSJxEhEg2O2X7xAik</td>\n",
       "    </tr>\n",
       "    <tr>\n",
       "      <th>...</th>\n",
       "      <td>...</td>\n",
       "    </tr>\n",
       "    <tr>\n",
       "      <th>95</th>\n",
       "      <td>6Xd3sEwne19qbUzxOrUl40</td>\n",
       "    </tr>\n",
       "    <tr>\n",
       "      <th>96</th>\n",
       "      <td>4Y3FiE2RbXAEKZt2CCnDjq</td>\n",
       "    </tr>\n",
       "    <tr>\n",
       "      <th>97</th>\n",
       "      <td>3JAfjiYNytpN8lFvdqccQz</td>\n",
       "    </tr>\n",
       "    <tr>\n",
       "      <th>98</th>\n",
       "      <td>50M7nY1oQuNHecs0ahWAtI</td>\n",
       "    </tr>\n",
       "    <tr>\n",
       "      <th>99</th>\n",
       "      <td>2aEEP34oDhTbylBm0k7yq6</td>\n",
       "    </tr>\n",
       "  </tbody>\n",
       "</table>\n",
       "<p>100 rows × 1 columns</p>\n",
       "</div>"
      ],
      "text/plain": [
       "                  song_ids\n",
       "0   6swfhh3Er1ldJbqNz3CIqW\n",
       "1   6rZwjouc6esJsvDulBNfSH\n",
       "2   5GazolrdPbxcRwwC3Wtl9U\n",
       "3   4SNumCzCRJsATXb2fq7kBl\n",
       "4   4F0FjRSJxEhEg2O2X7xAik\n",
       "..                     ...\n",
       "95  6Xd3sEwne19qbUzxOrUl40\n",
       "96  4Y3FiE2RbXAEKZt2CCnDjq\n",
       "97  3JAfjiYNytpN8lFvdqccQz\n",
       "98  50M7nY1oQuNHecs0ahWAtI\n",
       "99  2aEEP34oDhTbylBm0k7yq6\n",
       "\n",
       "[100 rows x 1 columns]"
      ]
     },
     "execution_count": 157,
     "metadata": {},
     "output_type": "execute_result"
    }
   ],
   "source": [
    "print(df.shape)\n",
    "df.head(100)"
   ]
  },
  {
   "cell_type": "code",
   "execution_count": 152,
   "id": "da5c6856",
   "metadata": {},
   "outputs": [
    {
     "name": "stdout",
     "output_type": "stream",
     "text": [
      "<class 'pandas.core.frame.DataFrame'>\n",
      "RangeIndex: 39494 entries, 0 to 39493\n",
      "Data columns (total 1 columns):\n",
      " #   Column    Non-Null Count  Dtype \n",
      "---  ------    --------------  ----- \n",
      " 0   song_ids  39494 non-null  object\n",
      "dtypes: object(1)\n",
      "memory usage: 308.7+ KB\n"
     ]
    }
   ],
   "source": [
    "df.info()"
   ]
  }
 ],
 "metadata": {
  "kernelspec": {
   "display_name": "Python 3 (ipykernel)",
   "language": "python",
   "name": "python3"
  },
  "language_info": {
   "codemirror_mode": {
    "name": "ipython",
    "version": 3
   },
   "file_extension": ".py",
   "mimetype": "text/x-python",
   "name": "python",
   "nbconvert_exporter": "python",
   "pygments_lexer": "ipython3",
   "version": "3.9.13"
  }
 },
 "nbformat": 4,
 "nbformat_minor": 5
}
