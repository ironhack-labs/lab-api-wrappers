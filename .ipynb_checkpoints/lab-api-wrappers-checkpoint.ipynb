{
 "cells": [
  {
   "cell_type": "code",
   "execution_count": 1,
   "id": "c0f9e0c7",
   "metadata": {},
   "outputs": [],
   "source": [
    "import spotipy\n",
    "from spotipy.oauth2 import SpotifyClientCredentials"
   ]
  },
  {
   "cell_type": "code",
   "execution_count": 2,
   "id": "43fb8000",
   "metadata": {},
   "outputs": [],
   "source": [
    "sp = spotipy.Spotify(auth_manager=SpotifyClientCredentials(\n",
    "    client_id=\"e2248c9221ee47cebb3c2e0f050901b0\",\n",
    "    client_secret=\"c561ecf381eb457597658fa057eb1cbf\"))"
   ]
  },
  {
   "cell_type": "code",
   "execution_count": 3,
   "id": "d4c7339d",
   "metadata": {},
   "outputs": [],
   "source": [
    "playlist = sp.user_playlist_tracks(\"spotify\", \"444NypIIQHk4YdoosaVpIy\")\n",
    "#tracks = playlist['items']\n",
    "#playlist_temp = playlist\n",
    "\n",
    "#while sp.next(playlist_temp):\n",
    "    #playlist_temp = sp.next(playlist_temp)\n",
    "    #tracks.extend(playlist_temp['items'])\n",
    "\n",
    "#songs = {\n",
    "    #track['track']['id']: [track['track']['name'], track['track']['artists'][0][\"name\"]]\n",
    "    #for track in tracks\n",
    "#}\n",
    "\n",
    "#songs"
   ]
  },
  {
   "cell_type": "code",
   "execution_count": 4,
   "id": "728e8c5e",
   "metadata": {},
   "outputs": [],
   "source": [
    "import spotipy\n",
    "from spotipy.oauth2 import SpotifyClientCredentials\n",
    "\n",
    "def collect_songs_from_playlist(playlist_id, client_id, client_secret):\n",
    "    # Step 1: Authenticate with Spotify API using client credentials\n",
    "    #auth_manager = SpotifyClientCredentials(client_id=client_id, client_secret=client_secret)\n",
    "    #sp = spotipy.Spotify(auth_manager=auth_manager)\n",
    "\n",
    "    # Step 2: Retrieve tracks from the playlist\n",
    "    tracks = []\n",
    "    results = sp.user_playlist_tracks(\"spotify\", playlist_id)\n",
    "    tracks.extend(results['items'])\n",
    "\n",
    "    while results['next']:\n",
    "        results = sp.next(results)\n",
    "        tracks.extend(results['items'])\n",
    "\n",
    "    # Step 3: Extract artist information\n",
    "    artist_names = set()\n",
    "    for track in tracks:\n",
    "        artists = track['track']['artists']\n",
    "        for artist in artists:\n",
    "            artist_names.add(artist['name'])\n",
    "\n",
    "    # Step 4: Retrieve albums and tracks for each artist\n",
    "    all_tracks = []\n",
    "    for artist_name in artist_names:\n",
    "        results = sp.search(q=artist_name, type='artist')\n",
    "        artist_id = results['artists']['items'][0]['id']\n",
    "\n",
    "        results = sp.artist_albums(artist_id, album_type='album')\n",
    "        albums = results['items']\n",
    "\n",
    "        while results['next']:\n",
    "            results = sp.next(results)\n",
    "            albums.extend(results['items'])\n",
    "\n",
    "        for album in albums:\n",
    "            album_id = album['id']\n",
    "            album_tracks = sp.album_tracks(album_id)['items']\n",
    "            all_tracks.extend(album_tracks)\n",
    "\n",
    "    # Step 5: Retrieve audio features for each track\n",
    "    song_data = {}\n",
    "    for track in all_tracks:\n",
    "        track_id = track['id']\n",
    "        audio_features = sp.audio_features([track_id])[0]\n",
    "        song_data[track_id] = {\n",
    "            'name': track['name'],\n",
    "            'artist': track['artists'][0]['name'],\n",
    "            'audio_features': audio_features\n",
    "        }\n",
    "\n",
    "    return song_data"
   ]
  },
  {
   "cell_type": "code",
   "execution_count": 6,
   "id": "f55bc672",
   "metadata": {},
   "outputs": [],
   "source": [
    "#playlist-tracks\n",
    "\n",
    "playlist_id = '444NypIIQHk4YdoosaVpIy'\n",
    "tracks = []\n",
    "results = sp.user_playlist_tracks(\"spotify\", playlist_id)\n",
    "tracks.extend(results['items'])\n",
    "\n",
    "while results['next']:\n",
    "    results = sp.next(results)\n",
    "    tracks.extend(results['items'])"
   ]
  },
  {
   "cell_type": "code",
   "execution_count": 10,
   "id": "613e81fe",
   "metadata": {},
   "outputs": [],
   "source": [
    "artist_names = set()\n",
    "for track in tracks:\n",
    "    artists = track['track']['artists']\n",
    "    for artist in artists:\n",
    "        artist_names.add(artist['name'])"
   ]
  },
  {
   "cell_type": "raw",
   "id": "4302110c",
   "metadata": {},
   "source": []
  },
  {
   "cell_type": "code",
   "execution_count": null,
   "id": "9aa574c0",
   "metadata": {},
   "outputs": [],
   "source": []
  }
 ],
 "metadata": {
  "kernelspec": {
   "display_name": "Python 3 (ipykernel)",
   "language": "python",
   "name": "python3"
  },
  "language_info": {
   "codemirror_mode": {
    "name": "ipython",
    "version": 3
   },
   "file_extension": ".py",
   "mimetype": "text/x-python",
   "name": "python",
   "nbconvert_exporter": "python",
   "pygments_lexer": "ipython3",
   "version": "3.9.13"
  }
 },
 "nbformat": 4,
 "nbformat_minor": 5
}
