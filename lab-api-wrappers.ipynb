{
 "cells": [
  {
   "cell_type": "code",
   "execution_count": 1,
   "metadata": {},
   "outputs": [],
   "source": [
    "import spotipy\n",
    "from spotipy.oauth2 import SpotifyClientCredentials"
   ]
  },
  {
   "cell_type": "code",
   "execution_count": 2,
   "metadata": {},
   "outputs": [],
   "source": [
    "sp = spotipy.Spotify(auth_manager=SpotifyClientCredentials(client_id=\"ac7f809710fe4bdba2d1d67325301223\", client_secret=\"5c6fd8f6bff340afa5a525345db8f2ff\"))"
   ]
  },
  {
   "cell_type": "code",
   "execution_count": 3,
   "metadata": {},
   "outputs": [],
   "source": [
    "track_ids = []"
   ]
  },
  {
   "cell_type": "code",
   "execution_count": 4,
   "metadata": {},
   "outputs": [],
   "source": [
    "song_ids = []\n",
    "artist_ids = []\n",
    "album_ids = []"
   ]
  },
  {
   "cell_type": "code",
   "execution_count": 5,
   "metadata": {},
   "outputs": [],
   "source": [
    "def get_song_data(playlist_id):\n",
    "    playlist = sp.playlist(playlist_id)\n",
    "    total_songs = playlist['tracks']['total']\n",
    "    offset = 0\n",
    "    while len(song_ids) < total_songs:\n",
    "        playlist_items = sp.playlist_items(playlist_id, offset=offset)['items']\n",
    "        for item in playlist_items:\n",
    "            song_id = item['track']['id']\n",
    "            if song_id not in song_ids:\n",
    "                song_ids.append(song_id)\n",
    "        offset += 100\n",
    "\n",
    "    for i in range(0, len(song_ids), 50):\n",
    "        track_features = sp.tracks(song_ids[i:i+50], market=None)['tracks']\n",
    "        for feature in track_features:\n",
    "            artist_id = feature['artists'][0]['id']\n",
    "            if artist_id not in artist_ids:\n",
    "                artist_ids.append(artist_id)\n",
    "\n",
    "    for artist_id in artist_ids:\n",
    "        albums = sp.artist_albums(artist_id, album_type='album')\n",
    "        for album in albums['items']:\n",
    "            album_id = album['id']\n",
    "            if album_id not in album_ids:\n",
    "                album_ids.append(album_id)\n",
    "\n",
    "    for album_id in album_ids:\n",
    "        album_tracks = sp.album_tracks(album_id)\n",
    "        for track in album_tracks['items']:\n",
    "            if track not in track_ids:\n",
    "                track_ids.append(track['id'])"
   ]
  },
  {
   "cell_type": "code",
   "execution_count": 6,
   "metadata": {},
   "outputs": [],
   "source": [
    "get_song_data(playlist_id='37i9dQZF1DX4o1oenSJRJd')"
   ]
  },
  {
   "cell_type": "code",
   "execution_count": null,
   "metadata": {},
   "outputs": [],
   "source": [
    "#get_song_data(playlist_id='37i9dQZF1DX7F6T2n2fegs')"
   ]
  },
  {
   "cell_type": "code",
   "execution_count": null,
   "metadata": {},
   "outputs": [],
   "source": [
    "#get_song_data(playlist_id='2YRe7HRKNRvXdJBp9nXFza')"
   ]
  }
 ],
 "metadata": {
  "kernelspec": {
   "display_name": "Python 3",
   "language": "python",
   "name": "python3"
  },
  "language_info": {
   "codemirror_mode": {
    "name": "ipython",
    "version": 3
   },
   "file_extension": ".py",
   "mimetype": "text/x-python",
   "name": "python",
   "nbconvert_exporter": "python",
   "pygments_lexer": "ipython3",
   "version": "3.10.11"
  },
  "orig_nbformat": 4
 },
 "nbformat": 4,
 "nbformat_minor": 2
}
