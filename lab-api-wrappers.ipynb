{
 "cells": [
  {
   "cell_type": "code",
   "execution_count": 1,
   "id": "f372faf1",
   "metadata": {},
   "outputs": [],
   "source": [
    "import spotipy\n",
    "from spotipy.oauth2 import SpotifyClientCredentials\n",
    "import numpy as np\n",
    "import os"
   ]
  },
  {
   "cell_type": "code",
   "execution_count": 2,
   "id": "51ecd253",
   "metadata": {},
   "outputs": [],
   "source": [
    "import os\n",
    "\n",
    "os.environ[\"SPOTIPY_CLIENT_SECRET\"] = \"c561ecf381eb457597658fa057eb1cbf\""
   ]
  },
  {
   "cell_type": "code",
   "execution_count": 3,
   "id": "393b8dea",
   "metadata": {},
   "outputs": [],
   "source": [
    "import spotipy\n",
    "from spotipy.oauth2 import SpotifyClientCredentials\n",
    "\n",
    "sp = spotipy.Spotify(auth_manager=SpotifyClientCredentials(\n",
    "    client_id=\"e2248c9221ee47cebb3c2e0f050901b0\"\n",
    "))"
   ]
  },
  {
   "cell_type": "code",
   "execution_count": 4,
   "id": "afb0da31",
   "metadata": {},
   "outputs": [],
   "source": [
    "def get_songs_from_playlists(playlist_ids, num_songs):\n",
    "\n",
    "    tracks = []\n",
    "    for playlist_id in playlist_ids:\n",
    "        playlist = sp.user_playlist_tracks(\"spotify\", playlist_id)\n",
    "        tracks.extend(playlist['items'])\n",
    "        while sp.next(playlist):\n",
    "            playlist = sp.next(playlist)\n",
    "            tracks.extend(playlist['items'])\n",
    "    songs = []\n",
    "    for track in tracks:\n",
    "        artist_id = track['track']['artists'][0]['id']\n",
    "        artist_name = track['track']['artists'][0]['name']\n",
    "        results = sp.artist_top_tracks(artist_id)\n",
    "        for track in results['tracks'][:num_songs]:\n",
    "            songs.append((track['id'], track['name'], artist_name)) \n",
    "    return np.unique(songs)"
   ]
  },
  {
   "cell_type": "code",
   "execution_count": null,
   "id": "7b33d6cf",
   "metadata": {},
   "outputs": [],
   "source": [
    "playlist_ids = [\"3ggHWuEOItFO23NDng5pFt\"]\n",
    "num_songs = 30\n",
    "len(get_songs_from_playlists(playlist_ids, num_songs))\n",
    "\n",
    "#\"444NypIIQHk4YdoosaVpIy\",\"6DKA5wog6VHfm4bgtN3oJ8\",\"1xnPxImqdydUvAkHODCkZb\",\"7d91tCzneuBicY1L9dZTaA\",\"3gxZ8SVUUiDqxsHBogDkQS\",\"37i9dQZF1DX8C9xQcOrE6T\",\"37i9dQZF1DWTALrdBtcXjw\", \"37i9dQZF1DWTALrdBtcXjw\""
   ]
  },
  {
   "cell_type": "code",
   "execution_count": null,
   "id": "1b87c9a7",
   "metadata": {},
   "outputs": [],
   "source": []
  }
 ],
 "metadata": {
  "kernelspec": {
   "display_name": "Python 3 (ipykernel)",
   "language": "python",
   "name": "python3"
  },
  "language_info": {
   "codemirror_mode": {
    "name": "ipython",
    "version": 3
   },
   "file_extension": ".py",
   "mimetype": "text/x-python",
   "name": "python",
   "nbconvert_exporter": "python",
   "pygments_lexer": "ipython3",
   "version": "3.9.13"
  }
 },
 "nbformat": 4,
 "nbformat_minor": 5
}
