{
 "cells": [
  {
   "cell_type": "code",
   "execution_count": 1,
   "metadata": {},
   "outputs": [],
   "source": [
    "import spotipy\n",
    "from spotipy.oauth2 import SpotifyClientCredentials\n",
    "import numpy as np\n",
    "import os"
   ]
  },
  {
   "cell_type": "code",
   "execution_count": 3,
   "metadata": {},
   "outputs": [],
   "source": [
    "os.environ[\"SPOTIPY_CLIENT_SECRET\"] = \"8cd27d862a794e378554578b9574d690\"\n",
    "sp = spotipy.Spotify(auth_manager=SpotifyClientCredentials(\n",
    "    client_id=\"f31000a33572419cbb8fb87e978fc487\"\n",
    "))"
   ]
  },
  {
   "cell_type": "code",
   "execution_count": 4,
   "metadata": {},
   "outputs": [],
   "source": [
    "def get_songs_from_playlists(playlist_ids, num_songs):\n",
    "\n",
    "    tracks = []\n",
    "    for playlist_id in playlist_ids:\n",
    "        playlist = sp.user_playlist_tracks(\"spotify\", playlist_id)\n",
    "        tracks.extend(playlist['items'])\n",
    "        while sp.next(playlist):\n",
    "            playlist = sp.next(playlist)\n",
    "            tracks.extend(playlist['items'])\n",
    "    songs = []\n",
    "    for track in tracks:\n",
    "        artist_id = track['track']['artists'][0]['id']\n",
    "        artist_name = track['track']['artists'][0]['name']\n",
    "        results = sp.artist_top_tracks(artist_id)\n",
    "        for track in results['tracks'][:num_songs]:\n",
    "            songs.append((track['id'], track['name'], artist_name)) \n",
    "    return np.unique(songs)"
   ]
  },
  {
   "cell_type": "code",
   "execution_count": 6,
   "metadata": {},
   "outputs": [
    {
     "data": {
      "text/plain": [
       "21"
      ]
     },
     "execution_count": 6,
     "metadata": {},
     "output_type": "execute_result"
    }
   ],
   "source": [
    "playlist_ids = [\"0jk9LWTFwABdp87PXuG5x8\"]\n",
    "num_songs = 30\n",
    "len(get_songs_from_playlists(playlist_ids, num_songs))"
   ]
  }
 ],
 "metadata": {
  "kernelspec": {
   "display_name": "base",
   "language": "python",
   "name": "python3"
  },
  "language_info": {
   "codemirror_mode": {
    "name": "ipython",
    "version": 3
   },
   "file_extension": ".py",
   "mimetype": "text/x-python",
   "name": "python",
   "nbconvert_exporter": "python",
   "pygments_lexer": "ipython3",
   "version": "3.9.12"
  },
  "orig_nbformat": 4,
  "vscode": {
   "interpreter": {
    "hash": "b6eefdfdaf961fc014a22513f67c1b2c066976fe7e86976f5328586044947a00"
   }
  }
 },
 "nbformat": 4,
 "nbformat_minor": 2
}
