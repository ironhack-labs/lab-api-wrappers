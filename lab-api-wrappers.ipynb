{
 "cells": [
  {
   "cell_type": "code",
   "execution_count": 1,
   "id": "9c34fa12",
   "metadata": {},
   "outputs": [],
   "source": [
    "import spotipy\n",
    "from spotipy.oauth2 import SpotifyClientCredentials"
   ]
  },
  {
   "cell_type": "code",
   "execution_count": 107,
   "id": "1891b546",
   "metadata": {},
   "outputs": [],
   "source": [
    "sp = spotipy.Spotify(auth_manager = SpotifyClientCredentials(\n",
    "client_id = \"e5a88b0785c240dca7066a1d28366730\",\n",
    "client_secret = \"57d5493921a94eb0bc4ccb80156cbba5\"))\n",
    "playlist_id = \"2YRe7HRKNRvXdJBp9nXFza\""
   ]
  },
  {
   "cell_type": "code",
   "execution_count": 108,
   "id": "085a6d95",
   "metadata": {},
   "outputs": [],
   "source": [
    "def all_songs_playlist(playlist_id):\n",
    "\n",
    "    playlist = sp.playlist_tracks(playlist_id)\n",
    "    tracks = playlist['items']\n",
    "    \n",
    "    while sp.next(playlist):\n",
    "        playlist = sp.next(playlist)\n",
    "        tracks.extend(playlist['items'])\n",
    "\n",
    "    album_ids = []\n",
    "    \n",
    "    for track in tracks:\n",
    "        album_ids.append(track['track']['album']['id'])\n",
    "    \n",
    "    all_tracks = []\n",
    "    \n",
    "    for album_id in album_ids:\n",
    "        album = sp.album_tracks(album_id)\n",
    "        album_tracks = album['items']\n",
    "        \n",
    "        while sp.next(album):\n",
    "            album = sp.next(album)\n",
    "            album_tracks.extend(album['items'])\n",
    "        all_tracks.extend(album_tracks)\n",
    "    \n",
    "    return all_tracks"
   ]
  },
  {
   "cell_type": "code",
   "execution_count": 109,
   "id": "29f191af",
   "metadata": {},
   "outputs": [
    {
     "data": {
      "text/plain": [
       "9007"
      ]
     },
     "execution_count": 109,
     "metadata": {},
     "output_type": "execute_result"
    }
   ],
   "source": [
    "len(all_songs_playlist(playlist_id))"
   ]
  }
 ],
 "metadata": {
  "kernelspec": {
   "display_name": "Python 3 (ipykernel)",
   "language": "python",
   "name": "python3"
  },
  "language_info": {
   "codemirror_mode": {
    "name": "ipython",
    "version": 3
   },
   "file_extension": ".py",
   "mimetype": "text/x-python",
   "name": "python",
   "nbconvert_exporter": "python",
   "pygments_lexer": "ipython3",
   "version": "3.10.9"
  }
 },
 "nbformat": 4,
 "nbformat_minor": 5
}
