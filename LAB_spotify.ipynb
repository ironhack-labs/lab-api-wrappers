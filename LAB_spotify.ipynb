{
 "cells": [
  {
   "cell_type": "code",
   "execution_count": 286,
   "id": "64958cc3",
   "metadata": {},
   "outputs": [],
   "source": [
    "import requests\n",
    "import pandas as pd\n",
    "import getpass\n",
    "\n",
    "#every wrapper as their own library to import API\n",
    "import spotipy #specific library for spotify\n",
    "from spotipy.oauth2 import SpotifyClientCredentials"
   ]
  },
  {
   "cell_type": "code",
   "execution_count": 287,
   "id": "9cf2fab1",
   "metadata": {
    "scrolled": true
   },
   "outputs": [
    {
     "name": "stdout",
     "output_type": "stream",
     "text": [
      "········\n"
     ]
    }
   ],
   "source": [
    "password = getpass.getpass()"
   ]
  },
  {
   "cell_type": "code",
   "execution_count": 288,
   "id": "ec189da3",
   "metadata": {},
   "outputs": [
    {
     "data": {
      "text/plain": [
       "<spotipy.client.Spotify at 0x15d3ed350>"
      ]
     },
     "execution_count": 288,
     "metadata": {},
     "output_type": "execute_result"
    }
   ],
   "source": [
    "sp = spotipy.Spotify(auth_manager= SpotifyClientCredentials(client_id = '215962337f5643b9aee5eb1af13ad601',\n",
    "                                                            client_secret = password))\n",
    "\n",
    "sp"
   ]
  },
  {
   "cell_type": "code",
   "execution_count": 386,
   "id": "6f1fd181",
   "metadata": {
    "scrolled": true
   },
   "outputs": [],
   "source": [
    "def get_musics(list_art):\n",
    "    song = []\n",
    "    for name in list_art:\n",
    "        for number in range(0,750,50):\n",
    "            result = sp.search(q = name ,limit = 50, offset=number)\n",
    "            song.append(result)\n",
    "    return song"
   ]
  },
  {
   "cell_type": "code",
   "execution_count": 340,
   "id": "496a1025",
   "metadata": {},
   "outputs": [],
   "source": [
    "singers = ['The Notorious B.I.G', 'OZUNA', 'MATHEUS & KAUAN', 'LUAN SANTANA', 'NEGRAMARO', 'The Script', \n",
    "           'EMINEM', '50 CENT', 'DENNIS', 'Rihanna', 'Luan Santana', 'Grupo Menos É Mais', 'Bad Bunny']"
   ]
  },
  {
   "cell_type": "code",
   "execution_count": 387,
   "id": "71d3ac7e",
   "metadata": {},
   "outputs": [],
   "source": [
    "song_list = get_musics(singers)"
   ]
  },
  {
   "cell_type": "code",
   "execution_count": 371,
   "id": "663c8e6e",
   "metadata": {},
   "outputs": [
    {
     "data": {
      "text/plain": [
       "260"
      ]
     },
     "execution_count": 371,
     "metadata": {},
     "output_type": "execute_result"
    }
   ],
   "source": [
    "len(song_list)"
   ]
  },
  {
   "cell_type": "code",
   "execution_count": 388,
   "id": "dbf087a9",
   "metadata": {},
   "outputs": [],
   "source": [
    "#get name of the artist and storing into a list\n",
    "def sort_music_extr(data_list):\n",
    "    song_duration = []\n",
    "    song_title =[]\n",
    "    artist_name = []\n",
    "    for n in range (0,len(data_list)):\n",
    "        for i in range (0,50):\n",
    "            duration_extr = data_list[n]['tracks']['items'][i]['duration_ms']\n",
    "            title_extr = data_list[n]['tracks']['items'][i]['name']\n",
    "            name_extr = data_list[n]['tracks']['items'][i]['artists'][0]['name']\n",
    "            artist_name.append(name_extr) \n",
    "            song_title.append(title_extr)\n",
    "            song_duration.append(duration_extr)\n",
    "            \n",
    "    df = pd.DataFrame({'artist': artist_name, 'song_title': song_title, 'song_duration':song_duration })\n",
    "    return df"
   ]
  },
  {
   "cell_type": "code",
   "execution_count": 389,
   "id": "ed484d78",
   "metadata": {},
   "outputs": [],
   "source": [
    "df_songs = sort_music_extr(song_list)"
   ]
  },
  {
   "cell_type": "code",
   "execution_count": 390,
   "id": "bbcf3516",
   "metadata": {
    "scrolled": true
   },
   "outputs": [
    {
     "data": {
      "text/html": [
       "<div>\n",
       "<style scoped>\n",
       "    .dataframe tbody tr th:only-of-type {\n",
       "        vertical-align: middle;\n",
       "    }\n",
       "\n",
       "    .dataframe tbody tr th {\n",
       "        vertical-align: top;\n",
       "    }\n",
       "\n",
       "    .dataframe thead th {\n",
       "        text-align: right;\n",
       "    }\n",
       "</style>\n",
       "<table border=\"1\" class=\"dataframe\">\n",
       "  <thead>\n",
       "    <tr style=\"text-align: right;\">\n",
       "      <th></th>\n",
       "      <th>artist</th>\n",
       "      <th>song_title</th>\n",
       "      <th>song_duration</th>\n",
       "    </tr>\n",
       "  </thead>\n",
       "  <tbody>\n",
       "    <tr>\n",
       "      <th>0</th>\n",
       "      <td>The Notorious B.I.G.</td>\n",
       "      <td>Hypnotize - 2007 Remaster</td>\n",
       "      <td>230000</td>\n",
       "    </tr>\n",
       "    <tr>\n",
       "      <th>1</th>\n",
       "      <td>The Notorious B.I.G.</td>\n",
       "      <td>Hypnotize - 2014 Remaster</td>\n",
       "      <td>229826</td>\n",
       "    </tr>\n",
       "    <tr>\n",
       "      <th>2</th>\n",
       "      <td>The Notorious B.I.G.</td>\n",
       "      <td>Sky's the Limit (feat. 112) - 2014 Remaster</td>\n",
       "      <td>329426</td>\n",
       "    </tr>\n",
       "    <tr>\n",
       "      <th>3</th>\n",
       "      <td>The Notorious B.I.G.</td>\n",
       "      <td>Big Poppa - 2007 Remaster</td>\n",
       "      <td>249866</td>\n",
       "    </tr>\n",
       "    <tr>\n",
       "      <th>4</th>\n",
       "      <td>The Notorious B.I.G.</td>\n",
       "      <td>Big Poppa - 2005 Remaster</td>\n",
       "      <td>252746</td>\n",
       "    </tr>\n",
       "    <tr>\n",
       "      <th>...</th>\n",
       "      <td>...</td>\n",
       "      <td>...</td>\n",
       "      <td>...</td>\n",
       "    </tr>\n",
       "    <tr>\n",
       "      <th>9745</th>\n",
       "      <td>Jhayco</td>\n",
       "      <td>No Me Conoce - Remix</td>\n",
       "      <td>309546</td>\n",
       "    </tr>\n",
       "    <tr>\n",
       "      <th>9746</th>\n",
       "      <td>Jhayco</td>\n",
       "      <td>No Me Conoce - Remix</td>\n",
       "      <td>309546</td>\n",
       "    </tr>\n",
       "    <tr>\n",
       "      <th>9747</th>\n",
       "      <td>Cardi B</td>\n",
       "      <td>I Like It</td>\n",
       "      <td>253390</td>\n",
       "    </tr>\n",
       "    <tr>\n",
       "      <th>9748</th>\n",
       "      <td>Cardi B</td>\n",
       "      <td>I Like It</td>\n",
       "      <td>253390</td>\n",
       "    </tr>\n",
       "    <tr>\n",
       "      <th>9749</th>\n",
       "      <td>Cardi B</td>\n",
       "      <td>I Like It</td>\n",
       "      <td>253390</td>\n",
       "    </tr>\n",
       "  </tbody>\n",
       "</table>\n",
       "<p>9750 rows × 3 columns</p>\n",
       "</div>"
      ],
      "text/plain": [
       "                    artist                                   song_title  \\\n",
       "0     The Notorious B.I.G.                    Hypnotize - 2007 Remaster   \n",
       "1     The Notorious B.I.G.                    Hypnotize - 2014 Remaster   \n",
       "2     The Notorious B.I.G.  Sky's the Limit (feat. 112) - 2014 Remaster   \n",
       "3     The Notorious B.I.G.                    Big Poppa - 2007 Remaster   \n",
       "4     The Notorious B.I.G.                    Big Poppa - 2005 Remaster   \n",
       "...                    ...                                          ...   \n",
       "9745                Jhayco                         No Me Conoce - Remix   \n",
       "9746                Jhayco                         No Me Conoce - Remix   \n",
       "9747               Cardi B                                    I Like It   \n",
       "9748               Cardi B                                    I Like It   \n",
       "9749               Cardi B                                    I Like It   \n",
       "\n",
       "      song_duration  \n",
       "0            230000  \n",
       "1            229826  \n",
       "2            329426  \n",
       "3            249866  \n",
       "4            252746  \n",
       "...             ...  \n",
       "9745         309546  \n",
       "9746         309546  \n",
       "9747         253390  \n",
       "9748         253390  \n",
       "9749         253390  \n",
       "\n",
       "[9750 rows x 3 columns]"
      ]
     },
     "execution_count": 390,
     "metadata": {},
     "output_type": "execute_result"
    }
   ],
   "source": [
    "df_songs"
   ]
  }
 ],
 "metadata": {
  "kernelspec": {
   "display_name": "Python 3 (ipykernel)",
   "language": "python",
   "name": "python3"
  },
  "language_info": {
   "codemirror_mode": {
    "name": "ipython",
    "version": 3
   },
   "file_extension": ".py",
   "mimetype": "text/x-python",
   "name": "python",
   "nbconvert_exporter": "python",
   "pygments_lexer": "ipython3",
   "version": "3.11.5"
  }
 },
 "nbformat": 4,
 "nbformat_minor": 5
}
