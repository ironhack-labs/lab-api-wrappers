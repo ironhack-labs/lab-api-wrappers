{
 "cells": [
  {
   "cell_type": "code",
   "execution_count": 28,
   "id": "f2c882ee",
   "metadata": {},
   "outputs": [],
   "source": [
    "import spotipy\n",
    "from spotipy.oauth2 import SpotifyClientCredentials\n",
    "import numpy as np\n",
    "import pandas as pd"
   ]
  },
  {
   "cell_type": "markdown",
   "id": "b73b6b20",
   "metadata": {},
   "source": [
    "# Lab | API wrappers - Create your collection of songs & audio features\n",
    "\n",
    "\n",
    " Instructions \n",
    "\n",
    "\n",
    "To move forward with the project, you need to create a collection of songs with their audio features - as large as possible! \n",
    "\n",
    "These are the songs that we will cluster. And, later, when the user inputs a song, we will find the cluster to which the song belongs and recommend a song from the same cluster.\n",
    "The more songs you have, the more accurate and diverse recommendations you'll be able to give. Although... you might want to make sure the collected songs are \"curated\" in a certain way. Try to find playlists of songs that are diverse, but also that meet certain standards.\n",
    "\n",
    "The process of sending hundreds or thousands of requests can take some time - it's normal if you have to wait a few minutes (or, if you're ambitious, even hours) to get all the data you need.\n",
    "\n",
    "An idea for collecting as many songs as possible is to start with all the songs of a big, diverse playlist and then go to every artist present in the playlist and grab every song of every album of that artist. The amount of songs you'll be collecting per playlist will grow exponentially!"
   ]
  },
  {
   "cell_type": "code",
   "execution_count": 29,
   "id": "a533accc",
   "metadata": {},
   "outputs": [],
   "source": [
    "sp = spotipy.Spotify(auth_manager=SpotifyClientCredentials(\n",
    "    client_id=\"ea97f40064524f9d812dfdc18ea50b86\",\n",
    "    client_secret=\"3de672dadbed45b6a26b3d0db682fc1e\"))"
   ]
  },
  {
   "cell_type": "code",
   "execution_count": null,
   "id": "d1fe77ee",
   "metadata": {},
   "outputs": [],
   "source": [
    "# Function "
   ]
  },
  {
   "cell_type": "code",
   "execution_count": 3,
   "id": "f8ba0e10",
   "metadata": {},
   "outputs": [],
   "source": [
    "def get_songs_from_playlists(playlist_ids, num_songs):\n",
    "\n",
    "    tracks = []\n",
    "    for playlist_id in playlist_ids:\n",
    "        playlist = sp.user_playlist_tracks(\"spotify\", playlist_id)\n",
    "        tracks.extend(playlist['items'])\n",
    "        while sp.next(playlist):\n",
    "            playlist = sp.next(playlist)\n",
    "            tracks.extend(playlist['items'])\n",
    "    songs = []\n",
    "    for track in tracks:\n",
    "        artist_id = track['track']['artists'][0]['id']\n",
    "        artist_name = track['track']['artists'][0]['name']\n",
    "        results = sp.artist_top_tracks(artist_id)\n",
    "        for track in results['tracks'][:num_songs]:\n",
    "            songs.append((track['id'], track['name'], artist_name)) \n",
    "    return np.unique(songs)\n"
   ]
  },
  {
   "cell_type": "code",
   "execution_count": 4,
   "id": "205ec97b",
   "metadata": {},
   "outputs": [
    {
     "data": {
      "text/plain": [
       "18945"
      ]
     },
     "execution_count": 4,
     "metadata": {},
     "output_type": "execute_result"
    }
   ],
   "source": [
    "playlist_ids = [\"7H3jsjFAOc1h4Ivs4PvfOH\"]\n",
    "num_songs = 30\n",
    "all_songs = get_songs_from_playlists(playlist_ids, num_songs)\n",
    "len(all_songs)"
   ]
  },
  {
   "cell_type": "code",
   "execution_count": 15,
   "id": "4712f0b4",
   "metadata": {},
   "outputs": [
    {
     "data": {
      "text/plain": [
       "array(['\"A\" You\\'re Adorable', '#REBEL', \"'65 Love Affair\", ...,\n",
       "       '生命有一種絕對', '離開 - Acoustic Version', '飞(电视剧《少年派2》片头曲) - 伴奏版'],\n",
       "      dtype='<U136')"
      ]
     },
     "execution_count": 15,
     "metadata": {},
     "output_type": "execute_result"
    }
   ],
   "source": [
    "all_songs"
   ]
  },
  {
   "cell_type": "code",
   "execution_count": 5,
   "id": "afa4b6d2",
   "metadata": {},
   "outputs": [],
   "source": [
    "all_songs_df = pd.DataFrame(all_songs)\n",
    "all_songs_df.to_csv('all_songs.csv')"
   ]
  },
  {
   "cell_type": "code",
   "execution_count": null,
   "id": "e42cbbb7",
   "metadata": {},
   "outputs": [],
   "source": [
    "# First DF"
   ]
  },
  {
   "cell_type": "code",
   "execution_count": 7,
   "id": "27c4f860",
   "metadata": {
    "scrolled": false
   },
   "outputs": [
    {
     "data": {
      "text/html": [
       "<div>\n",
       "<style scoped>\n",
       "    .dataframe tbody tr th:only-of-type {\n",
       "        vertical-align: middle;\n",
       "    }\n",
       "\n",
       "    .dataframe tbody tr th {\n",
       "        vertical-align: top;\n",
       "    }\n",
       "\n",
       "    .dataframe thead th {\n",
       "        text-align: right;\n",
       "    }\n",
       "</style>\n",
       "<table border=\"1\" class=\"dataframe\">\n",
       "  <thead>\n",
       "    <tr style=\"text-align: right;\">\n",
       "      <th></th>\n",
       "      <th>0</th>\n",
       "    </tr>\n",
       "  </thead>\n",
       "  <tbody>\n",
       "    <tr>\n",
       "      <th>0</th>\n",
       "      <td>\"A\" You're Adorable</td>\n",
       "    </tr>\n",
       "    <tr>\n",
       "      <th>1</th>\n",
       "      <td>#REBEL</td>\n",
       "    </tr>\n",
       "    <tr>\n",
       "      <th>2</th>\n",
       "      <td>'65 Love Affair</td>\n",
       "    </tr>\n",
       "    <tr>\n",
       "      <th>3</th>\n",
       "      <td>'65 Love Affair - Single Version</td>\n",
       "    </tr>\n",
       "    <tr>\n",
       "      <th>4</th>\n",
       "      <td>'Cross the Brazos at Waco</td>\n",
       "    </tr>\n",
       "    <tr>\n",
       "      <th>...</th>\n",
       "      <td>...</td>\n",
       "    </tr>\n",
       "    <tr>\n",
       "      <th>18940</th>\n",
       "      <td>源自你</td>\n",
       "    </tr>\n",
       "    <tr>\n",
       "      <th>18941</th>\n",
       "      <td>爱的海洋 (Love Ocean)</td>\n",
       "    </tr>\n",
       "    <tr>\n",
       "      <th>18942</th>\n",
       "      <td>生命有一種絕對</td>\n",
       "    </tr>\n",
       "    <tr>\n",
       "      <th>18943</th>\n",
       "      <td>離開 - Acoustic Version</td>\n",
       "    </tr>\n",
       "    <tr>\n",
       "      <th>18944</th>\n",
       "      <td>飞(电视剧《少年派2》片头曲) - 伴奏版</td>\n",
       "    </tr>\n",
       "  </tbody>\n",
       "</table>\n",
       "<p>18945 rows × 1 columns</p>\n",
       "</div>"
      ],
      "text/plain": [
       "                                      0\n",
       "0                   \"A\" You're Adorable\n",
       "1                                #REBEL\n",
       "2                       '65 Love Affair\n",
       "3      '65 Love Affair - Single Version\n",
       "4             'Cross the Brazos at Waco\n",
       "...                                 ...\n",
       "18940                               源自你\n",
       "18941                 爱的海洋 (Love Ocean)\n",
       "18942                           生命有一種絕對\n",
       "18943             離開 - Acoustic Version\n",
       "18944             飞(电视剧《少年派2》片头曲) - 伴奏版\n",
       "\n",
       "[18945 rows x 1 columns]"
      ]
     },
     "execution_count": 7,
     "metadata": {},
     "output_type": "execute_result"
    }
   ],
   "source": [
    "all_songs_df"
   ]
  },
  {
   "cell_type": "code",
   "execution_count": null,
   "id": "e89c4442",
   "metadata": {},
   "outputs": [],
   "source": [
    "# Second DF"
   ]
  },
  {
   "cell_type": "code",
   "execution_count": 8,
   "id": "e56117da",
   "metadata": {},
   "outputs": [],
   "source": [
    "playlist_ids = [\"7H3jsjFAOc1h4Ivs4PvfOH\", \"6L17tobMD22EunUs127EIO\"]\n",
    "num_songs = 30\n",
    "all_songs_2 = get_songs_from_playlists(playlist_ids, num_songs)\n"
   ]
  },
  {
   "cell_type": "code",
   "execution_count": 10,
   "id": "0c7bccbe",
   "metadata": {},
   "outputs": [
    {
     "data": {
      "text/plain": [
       "23645"
      ]
     },
     "execution_count": 10,
     "metadata": {},
     "output_type": "execute_result"
    }
   ],
   "source": [
    "len(all_songs_2)"
   ]
  },
  {
   "cell_type": "code",
   "execution_count": 13,
   "id": "3698689c",
   "metadata": {},
   "outputs": [],
   "source": [
    "all_songs_df_2 = pd.DataFrame(all_songs_2)\n",
    "all_songs_df_2.to_csv('all_songs_2.csv')"
   ]
  },
  {
   "cell_type": "code",
   "execution_count": 14,
   "id": "12faa735",
   "metadata": {
    "scrolled": true
   },
   "outputs": [
    {
     "data": {
      "text/html": [
       "<div>\n",
       "<style scoped>\n",
       "    .dataframe tbody tr th:only-of-type {\n",
       "        vertical-align: middle;\n",
       "    }\n",
       "\n",
       "    .dataframe tbody tr th {\n",
       "        vertical-align: top;\n",
       "    }\n",
       "\n",
       "    .dataframe thead th {\n",
       "        text-align: right;\n",
       "    }\n",
       "</style>\n",
       "<table border=\"1\" class=\"dataframe\">\n",
       "  <thead>\n",
       "    <tr style=\"text-align: right;\">\n",
       "      <th></th>\n",
       "      <th>0</th>\n",
       "    </tr>\n",
       "  </thead>\n",
       "  <tbody>\n",
       "    <tr>\n",
       "      <th>0</th>\n",
       "      <td>\"A\" You're Adorable</td>\n",
       "    </tr>\n",
       "    <tr>\n",
       "      <th>1</th>\n",
       "      <td>#REBEL</td>\n",
       "    </tr>\n",
       "    <tr>\n",
       "      <th>2</th>\n",
       "      <td>'65 Love Affair</td>\n",
       "    </tr>\n",
       "    <tr>\n",
       "      <th>3</th>\n",
       "      <td>'65 Love Affair - Single Version</td>\n",
       "    </tr>\n",
       "    <tr>\n",
       "      <th>4</th>\n",
       "      <td>'Cross the Brazos at Waco</td>\n",
       "    </tr>\n",
       "    <tr>\n",
       "      <th>...</th>\n",
       "      <td>...</td>\n",
       "    </tr>\n",
       "    <tr>\n",
       "      <th>23640</th>\n",
       "      <td>源自你</td>\n",
       "    </tr>\n",
       "    <tr>\n",
       "      <th>23641</th>\n",
       "      <td>爱的海洋 (Love Ocean)</td>\n",
       "    </tr>\n",
       "    <tr>\n",
       "      <th>23642</th>\n",
       "      <td>生命有一種絕對</td>\n",
       "    </tr>\n",
       "    <tr>\n",
       "      <th>23643</th>\n",
       "      <td>離開 - Acoustic Version</td>\n",
       "    </tr>\n",
       "    <tr>\n",
       "      <th>23644</th>\n",
       "      <td>飞(电视剧《少年派2》片头曲) - 伴奏版</td>\n",
       "    </tr>\n",
       "  </tbody>\n",
       "</table>\n",
       "<p>23645 rows × 1 columns</p>\n",
       "</div>"
      ],
      "text/plain": [
       "                                      0\n",
       "0                   \"A\" You're Adorable\n",
       "1                                #REBEL\n",
       "2                       '65 Love Affair\n",
       "3      '65 Love Affair - Single Version\n",
       "4             'Cross the Brazos at Waco\n",
       "...                                 ...\n",
       "23640                               源自你\n",
       "23641                 爱的海洋 (Love Ocean)\n",
       "23642                           生命有一種絕對\n",
       "23643             離開 - Acoustic Version\n",
       "23644             飞(电视剧《少年派2》片头曲) - 伴奏版\n",
       "\n",
       "[23645 rows x 1 columns]"
      ]
     },
     "execution_count": 14,
     "metadata": {},
     "output_type": "execute_result"
    }
   ],
   "source": [
    "all_songs_df_2"
   ]
  },
  {
   "cell_type": "code",
   "execution_count": null,
   "id": "b7709396",
   "metadata": {},
   "outputs": [],
   "source": [
    "def get_songs_from_playlists(playlist_ids, num_songs):\n",
    "\n",
    "    tracks = []\n",
    "    for playlist_id in playlist_ids:\n",
    "        playlist = sp.user_playlist_tracks(\"spotify\", playlist_id)\n",
    "        tracks.extend(playlist['items'])\n",
    "        while sp.next(playlist):\n",
    "            playlist = sp.next(playlist)\n",
    "            tracks.extend(playlist['items'])\n",
    "    songs = []\n",
    "    for track in tracks:\n",
    "        artist_id = track['track']['artists'][0]['id']\n",
    "        artist_name = track['track']['artists'][0]['name']\n",
    "        results = sp.artist_top_tracks(artist_id)\n",
    "        for track in results['tracks'][:num_songs]:\n",
    "            songs.append((track['id'])) \n",
    "    return np.unique(songs)"
   ]
  },
  {
   "cell_type": "code",
   "execution_count": null,
   "id": "cef0b124",
   "metadata": {},
   "outputs": [],
   "source": [
    "playlist_ids = [\"7H3jsjFAOc1h4Ivs4PvfOH\", \"6L17tobMD22EunUs127EIO\"]\n",
    "num_songs = 30\n",
    "all_songs_3 = get_songs_from_playlists(playlist_ids, num_songs)"
   ]
  },
  {
   "cell_type": "code",
   "execution_count": null,
   "id": "26020bca",
   "metadata": {},
   "outputs": [],
   "source": [
    "all_songs_df_2 = pd.DataFrame(all_songs_3)\n",
    "all_songs_df_3.to_csv('all_songs_3.csv')"
   ]
  },
  {
   "cell_type": "code",
   "execution_count": null,
   "id": "00df4629",
   "metadata": {},
   "outputs": [],
   "source": []
  }
 ],
 "metadata": {
  "kernelspec": {
   "display_name": "Python 3 (ipykernel)",
   "language": "python",
   "name": "python3"
  },
  "language_info": {
   "codemirror_mode": {
    "name": "ipython",
    "version": 3
   },
   "file_extension": ".py",
   "mimetype": "text/x-python",
   "name": "python",
   "nbconvert_exporter": "python",
   "pygments_lexer": "ipython3",
   "version": "3.9.13"
  }
 },
 "nbformat": 4,
 "nbformat_minor": 5
}
